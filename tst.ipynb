{
 "cells": [
  {
   "cell_type": "code",
   "execution_count": 27,
   "metadata": {},
   "outputs": [],
   "source": [
    "class Animal():\n",
    "\n",
    "    def __init__(self, nome):\n",
    "        self.nome = nome\n",
    "\n",
    "class Peixes(Animal):\n",
    "    def __init__(self, nome, cor, tamanho, nadadeiras, escamas):\n",
    "        super().__init__(nome)\n",
    "        self.cor = cor\n",
    "        self.tamanho = tamanho\n",
    "        self.nadadeiras = nadadeiras\n",
    "        self.escamas = escamas\n",
    "\n",
    "    def nadar(self):\n",
    "        print(f'{self.nome} está nadando')\n",
    "\n",
    "    def exibir_caracteristicas(self):\n",
    "        print(f'O Peixe tem as seguintes características\\nCor: {self.cor}\\nTamanho: {self.tamanho}\\nNadadeiras: {self.nadadeiras}\\nEscamas: {self.escamas}\\nTipo de água: {self.tipo_agua}')\n",
    "         \n",
    "class PeixesAguaDoce(Peixes):\n",
    "    def __init__(self, nome, cor, tamanho, nadadeiras, escamas, tipo_agua):\n",
    "        super().__init__(nome, cor, tamanho, nadadeiras, escamas)\n",
    "        self.tipo_agua = tipo_agua\n",
    "\n",
    "    def nadar(self):\n",
    "        print(f'{self.nome} está nadando em água doce')\n",
    "\n",
    "    def exibir_tipo_agua(self):\n",
    "        print(f'O peixe {self.nome} vive em água {self.tipo_agua}')\n",
    "\n",
    "    def pode_viver_em_agua_doce(self):\n",
    "        return self.tipo_agua == 'doce'\n",
    "\n",
    "\n",
    "class Aves(Animal):\n",
    "    def __init__(self, nome, cor):\n",
    "        super().__init__(nome)\n",
    "        self.cor = cor\n",
    "\n",
    "    def voar(self):\n",
    "        print(f\"{self.nome} está voando.\")\n",
    "\n",
    "    def cor_animal(self):\n",
    "        print(f\"{self.nome} tem a cor: {self.cor}\")\n",
    "\n",
    "\n"
   ]
  },
  {
   "cell_type": "code",
   "execution_count": 28,
   "metadata": {},
   "outputs": [
    {
     "name": "stdout",
     "output_type": "stream",
     "text": [
      "Tubarão está nadando\n",
      "O Peixe tem as seguintes características\n",
      "Cor: Branco\n",
      "Tamanho: Grande\n",
      "Nadadeiras: Pequenas\n",
      "Escamas: Normais\n",
      "Pássaro está voando.\n",
      "Pássaro tem a cor: Azul\n"
     ]
    }
   ],
   "source": [
    "peixe = Peixes(\"Tubarão\", \"Branco\", \"Grande\", \"Pequenas\", \"Normais\")\n",
    "peixe.nadar()\n",
    "peixe.exibir_caracteristicas()\n",
    "\n",
    "ave = Aves(\"Pássaro\", \"Azul\")\n",
    "ave.voar()\n",
    "ave.cor_animal()"
   ]
  },
  {
   "cell_type": "code",
   "execution_count": null,
   "metadata": {},
   "outputs": [],
   "source": []
  }
 ],
 "metadata": {
  "kernelspec": {
   "display_name": "Python 3",
   "language": "python",
   "name": "python3"
  },
  "language_info": {
   "codemirror_mode": {
    "name": "ipython",
    "version": 3
   },
   "file_extension": ".py",
   "mimetype": "text/x-python",
   "name": "python",
   "nbconvert_exporter": "python",
   "pygments_lexer": "ipython3",
   "version": "3.11.4"
  },
  "orig_nbformat": 4
 },
 "nbformat": 4,
 "nbformat_minor": 2
}
